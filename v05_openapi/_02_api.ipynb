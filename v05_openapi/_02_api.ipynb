{
 "cells": [
  {
   "cell_type": "code",
   "execution_count": 14,
   "id": "4d57d7a5",
   "metadata": {},
   "outputs": [],
   "source": [
    "from IPython.display import Image, display\n",
    "explain = \"C:/github/Boot_Camp/static/bread4.jpg\"\n",
    "# display(Image(filename = explain))"
   ]
  },
  {
   "cell_type": "code",
   "execution_count": 15,
   "id": "01e5723f",
   "metadata": {},
   "outputs": [],
   "source": [
    "import urllib\n",
    "import json\n",
    "import pandas as pd\n",
    "import cv2"
   ]
  },
  {
   "cell_type": "code",
   "execution_count": 16,
   "id": "d566f116",
   "metadata": {},
   "outputs": [],
   "source": [
    "key = \"db5c00dc1fce45c49049bff225a0fea6\""
   ]
  },
  {
   "cell_type": "code",
   "execution_count": 17,
   "id": "04132baf",
   "metadata": {},
   "outputs": [],
   "source": [
    "# 도로 유형 (its : 일반도로 / ex : 고속도로)\n",
    "road_type = 'its'"
   ]
  },
  {
   "cell_type": "code",
   "execution_count": 18,
   "id": "0d384b8c",
   "metadata": {},
   "outputs": [],
   "source": [
    "# CCTV 데이터 요청을 위한 좌표 설정 (경도, 위도)\n",
    "minX: float = 120.95\n",
    "maxX: float = 127.02\n",
    "minY: float = 33.0\n",
    "maxY: float = 38.5 "
   ]
  },
  {
   "cell_type": "code",
   "execution_count": 19,
   "id": "b98221de",
   "metadata": {},
   "outputs": [],
   "source": [
    "# 응답 데이터 포맷 (json 또는 xml 사용)\n",
    "getType = 'json'"
   ]
  },
  {
   "cell_type": "code",
   "execution_count": 20,
   "id": "ec795d73",
   "metadata": {},
   "outputs": [],
   "source": [
    "# URL 주소\n",
    "url_cctv = f\"https://openapi.its.go.kr:9443/cctvInfo?apiKey={key}&type={road_type}&cctvType=1&minX={minX}&maxX={maxX}&minY={minY}&maxY={maxY}&getType={getType}\""
   ]
  },
  {
   "cell_type": "code",
   "execution_count": 21,
   "id": "b9e9a9c4",
   "metadata": {},
   "outputs": [],
   "source": [
    "# 생성한 URL로 API 요청 후 응답\n",
    "import urllib.request\n",
    "response = urllib.request.urlopen(url_cctv)\n",
    "# -> 해당 URL로 GET 보내고 서버 응답 리턴"
   ]
  },
  {
   "cell_type": "code",
   "execution_count": 22,
   "id": "807ffc58",
   "metadata": {},
   "outputs": [],
   "source": [
    "# 응답 받은 데이터를 UTF-8 형태로 변환\n",
    "json_str = response.read().decode('utf-8')\n",
    "# -> byte 형태로 받은 응답을 UTF-8 문자열로 변환"
   ]
  },
  {
   "cell_type": "code",
   "execution_count": 23,
   "id": "9e501c2d",
   "metadata": {},
   "outputs": [],
   "source": [
    "# JSON 문자열을 딕셔너리로 변환\n",
    "json_object = json.loads(json_str)"
   ]
  },
  {
   "cell_type": "code",
   "execution_count": 24,
   "id": "f34989ce",
   "metadata": {},
   "outputs": [],
   "source": [
    "# pandas DataFrame으로 변환\n",
    "cctv_play = pd.json_normalize(json_object[\"response\"]['data'], sep='')"
   ]
  },
  {
   "cell_type": "code",
   "execution_count": 27,
   "id": "8685d204",
   "metadata": {},
   "outputs": [
    {
     "name": "stdout",
     "output_type": "stream",
     "text": [
      "0         [국도 1호선] 파주 자유IC\n",
      "1         [국도1호선] 파주 통일공원앞\n",
      "2       [국도1호선] 파주 여우고개사거리\n",
      "3         [국도1호선] 파주 봉일천4리\n",
      "4        [국도 1호선] 파주 등원교차로\n",
      "               ...        \n",
      "1170       [국도36] 보령 고잠교차로\n",
      "1171       [국도77] 보령 원산교차로\n",
      "1172       [국도77] 보령 원의교차로\n",
      "1173       [국도77] 보령 선촌교차로\n",
      "1174       [국도77] 태안 영목교차로\n",
      "Name: cctvname, Length: 1175, dtype: object\n"
     ]
    }
   ],
   "source": [
    "print(cctv_play['cctvname'])"
   ]
  },
  {
   "cell_type": "code",
   "execution_count": 30,
   "id": "6cdf06cf",
   "metadata": {},
   "outputs": [],
   "source": [
    "test_url = cctv_play['cctvurl'][1170]"
   ]
  },
  {
   "cell_type": "code",
   "execution_count": 32,
   "id": "41187376",
   "metadata": {},
   "outputs": [],
   "source": [
    "# 주소 설정\n",
    "capture = cv2.VideoCapture(test_url)"
   ]
  },
  {
   "cell_type": "code",
   "execution_count": 33,
   "id": "0a7272f0",
   "metadata": {},
   "outputs": [
    {
     "ename": "KeyboardInterrupt",
     "evalue": "",
     "output_type": "error",
     "traceback": [
      "\u001b[1;31m---------------------------------------------------------------------------\u001b[0m",
      "\u001b[1;31mKeyboardInterrupt\u001b[0m                         Traceback (most recent call last)",
      "Cell \u001b[1;32mIn[33], line 2\u001b[0m\n\u001b[0;32m      1\u001b[0m \u001b[38;5;28;01mwhile\u001b[39;00m capture\u001b[38;5;241m.\u001b[39misOpened():\n\u001b[1;32m----> 2\u001b[0m     success, frame \u001b[38;5;241m=\u001b[39m \u001b[43mcapture\u001b[49m\u001b[38;5;241;43m.\u001b[39;49m\u001b[43mread\u001b[49m\u001b[43m(\u001b[49m\u001b[43m)\u001b[49m\n\u001b[0;32m      4\u001b[0m     \u001b[38;5;66;03m# 예외 처리\u001b[39;00m\n\u001b[0;32m      5\u001b[0m     \u001b[38;5;28;01mif\u001b[39;00m \u001b[38;5;129;01mnot\u001b[39;00m success:\n",
      "\u001b[1;31mKeyboardInterrupt\u001b[0m: "
     ]
    }
   ],
   "source": [
    "while capture.isOpened():\n",
    "    success, frame = capture.read()\n",
    "    \n",
    "    # 예외 처리\n",
    "    if not success:\n",
    "        print('자료 확인')\n",
    "        break\n",
    "    \n",
    "    # 영상 창 조절\n",
    "    cv2.namedWindow(\"OPENAPI\", cv2.WINDOW_NORMAL)\n",
    "    cv2.imshow(\"OPENAPI\", frame)\n",
    "    \n",
    "    # 종료 버튼\n",
    "    if cv2.waitKey(1) & 0xFF == ord('q'):\n",
    "        print('종료합니다')\n",
    "        break\n",
    "\n",
    "capture.release()\n",
    "cv2.destroyAllWindows()"
   ]
  },
  {
   "cell_type": "code",
   "execution_count": null,
   "id": "f251f8ad",
   "metadata": {},
   "outputs": [],
   "source": []
  }
 ],
 "metadata": {
  "kernelspec": {
   "display_name": "openapi",
   "language": "python",
   "name": "python3"
  },
  "language_info": {
   "codemirror_mode": {
    "name": "ipython",
    "version": 3
   },
   "file_extension": ".py",
   "mimetype": "text/x-python",
   "name": "python",
   "nbconvert_exporter": "python",
   "pygments_lexer": "ipython3",
   "version": "3.10.18"
  }
 },
 "nbformat": 4,
 "nbformat_minor": 5
}
